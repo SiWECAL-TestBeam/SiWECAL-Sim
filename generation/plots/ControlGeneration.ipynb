{
 "cells": [
  {
   "cell_type": "code",
   "execution_count": 2,
   "id": "5822f21d",
   "metadata": {},
   "outputs": [],
   "source": [
    "import numpy as np, matplotlib.pyplot as plt, mplhep, hist"
   ]
  },
  {
   "cell_type": "code",
   "execution_count": 1,
   "id": "6f7e8d5b",
   "metadata": {},
   "outputs": [
    {
     "name": "stdout",
     "output_type": "stream",
     "text": [
      "Welcome to JupyROOT 6.22/08\n",
      "Loading LCIO ROOT dictionaries ...\n"
     ]
    }
   ],
   "source": [
    "from pyLCIO.io import LcioReader\n",
    "from pyLCIO.UTIL import LCRelationNavigator\n"
   ]
  },
  {
   "cell_type": "code",
   "execution_count": 13,
   "id": "31391f73",
   "metadata": {},
   "outputs": [],
   "source": [
    "filename = \"/data_ilc/flc/jimenez/simulations/TB2021/data/ECAL_QGSP_BERT_conf0_e-_3GeV_0.slcio\"\n",
    "collection = \"SiEcalCollection\""
   ]
  },
  {
   "cell_type": "code",
   "execution_count": 24,
   "id": "8aa42e4c",
   "metadata": {},
   "outputs": [],
   "source": []
  },
  {
   "cell_type": "code",
   "execution_count": 16,
   "id": "428ace01",
   "metadata": {},
   "outputs": [],
   "source": [
    "reader = LcioReader.LcioReader(filename)\n",
    "events = []\n",
    "counter = 0\n",
    "Nev = 0\n",
    "for event in reader: Nev += 1\n",
    "for event in reader:\n",
    "    try:\n",
    "        hits = event.getCollection(collection)\n",
    "        this_hits = []\n",
    "        for hit in hits:\n",
    "            # If 'pos' list of len 3, pandas triplicates 1-valued 'e'\n",
    "            # => v01: use single, flat pos[x/y/z]\n",
    "            this_hits.append({'e': hit.getEnergy(),\n",
    "                              'posx': hit.getPosition()[0],\n",
    "                              'posy': hit.getPosition()[1],\n",
    "                              'posz': hit.getPosition()[2],\n",
    "                              })\n",
    "        events.append(this_hits)\n",
    "    \n",
    "    except: counter += 1\n",
    "    break"
   ]
  },
  {
   "cell_type": "code",
   "execution_count": 25,
   "id": "949d4c4f",
   "metadata": {},
   "outputs": [
    {
     "data": {
      "text/plain": [
       "999"
      ]
     },
     "execution_count": 25,
     "metadata": {},
     "output_type": "execute_result"
    }
   ],
   "source": [
    "counter"
   ]
  },
  {
   "cell_type": "code",
   "execution_count": 26,
   "id": "bdef6dba",
   "metadata": {},
   "outputs": [
    {
     "ename": "AttributeError",
     "evalue": "'LcioReader' object has no attribute 'getNumberOfElements'",
     "output_type": "error",
     "traceback": [
      "\u001b[0;31m---------------------------------------------------------------------------\u001b[0m",
      "\u001b[0;31mAttributeError\u001b[0m                            Traceback (most recent call last)",
      "\u001b[0;32m/tmp/ipykernel_1971/3259813171.py\u001b[0m in \u001b[0;36m<module>\u001b[0;34m\u001b[0m\n\u001b[0;32m----> 1\u001b[0;31m \u001b[0mreader\u001b[0m\u001b[0;34m.\u001b[0m\u001b[0mgetNumberOfElements\u001b[0m\u001b[0;34m(\u001b[0m\u001b[0;34m)\u001b[0m\u001b[0;34m\u001b[0m\u001b[0;34m\u001b[0m\u001b[0m\n\u001b[0m",
      "\u001b[0;31mAttributeError\u001b[0m: 'LcioReader' object has no attribute 'getNumberOfElements'"
     ]
    }
   ],
   "source": [
    "reader.getNumberOfElements()"
   ]
  },
  {
   "cell_type": "code",
   "execution_count": null,
   "id": "0fa84aec",
   "metadata": {},
   "outputs": [],
   "source": []
  }
 ],
 "metadata": {
  "kernelspec": {
   "display_name": "Python 3 (ipykernel)",
   "language": "python",
   "name": "python3"
  },
  "language_info": {
   "codemirror_mode": {
    "name": "ipython",
    "version": 3
   },
   "file_extension": ".py",
   "mimetype": "text/x-python",
   "name": "python",
   "nbconvert_exporter": "python",
   "pygments_lexer": "ipython3",
   "version": "3.9.2"
  }
 },
 "nbformat": 4,
 "nbformat_minor": 5
}
